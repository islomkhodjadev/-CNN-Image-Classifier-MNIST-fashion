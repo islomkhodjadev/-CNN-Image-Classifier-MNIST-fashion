{
 "cells": [
  {
   "cell_type": "code",
   "execution_count": 1,
   "id": "c2d59ce8",
   "metadata": {
    "_cell_guid": "b1076dfc-b9ad-4769-8c92-a6c4dae69d19",
    "_uuid": "8f2839f25d086af736a60e9eeb907d3b93b6e0e5",
    "execution": {
     "iopub.execute_input": "2025-03-08T08:16:41.918090Z",
     "iopub.status.busy": "2025-03-08T08:16:41.917759Z",
     "iopub.status.idle": "2025-03-08T08:16:42.579387Z",
     "shell.execute_reply": "2025-03-08T08:16:42.578709Z"
    },
    "papermill": {
     "duration": 0.669111,
     "end_time": "2025-03-08T08:16:42.581077",
     "exception": false,
     "start_time": "2025-03-08T08:16:41.911966",
     "status": "completed"
    },
    "tags": []
   },
   "outputs": [],
   "source": [
    "# This Python 3 environment comes with many helpful analytics libraries installed\n",
    "# It is defined by the kaggle/python Docker image: https://github.com/kaggle/docker-python\n",
    "# For example, here's several helpful packages to load\n",
    "\n",
    "import numpy as np # linear algebra\n",
    "import pandas as pd # data processing, CSV file I/O (e.g. pd.read_csv)\n",
    "\n",
    "# Input data files are available in the read-only \"../input/\" directory\n",
    "# For example, running this (by clicking run or pressing Shift+Enter) will list all files under the input directory\n",
    "\n",
    "import os\n",
    "for dirname, _, filenames in os.walk('/kaggle/input'):\n",
    "    for filename in filenames:\n",
    "        print(os.path.join(dirname, filename))\n",
    "\n",
    "# You can write up to 20GB to the current directory (/kaggle/working/) that gets preserved as output when you create a version using \"Save & Run All\" \n",
    "# You can also write temporary files to /kaggle/temp/, but they won't be saved outside of the current session"
   ]
  },
  {
   "cell_type": "code",
   "execution_count": 2,
   "id": "21fc001a",
   "metadata": {
    "execution": {
     "iopub.execute_input": "2025-03-08T08:16:42.590124Z",
     "iopub.status.busy": "2025-03-08T08:16:42.589784Z",
     "iopub.status.idle": "2025-03-08T08:16:54.729947Z",
     "shell.execute_reply": "2025-03-08T08:16:54.729011Z"
    },
    "papermill": {
     "duration": 12.146157,
     "end_time": "2025-03-08T08:16:54.731795",
     "exception": false,
     "start_time": "2025-03-08T08:16:42.585638",
     "status": "completed"
    },
    "tags": []
   },
   "outputs": [],
   "source": [
    "import tensorflow as tf\n",
    "import os\n",
    "gpus = tf.config.experimental.list_physical_devices('GPU')\n",
    "\n",
    "for gpu in gpus:\n",
    "    tf.config.experimental.set_memory_growth(gpu, True)"
   ]
  },
  {
   "cell_type": "code",
   "execution_count": 3,
   "id": "181fe723",
   "metadata": {
    "execution": {
     "iopub.execute_input": "2025-03-08T08:16:54.740573Z",
     "iopub.status.busy": "2025-03-08T08:16:54.740045Z",
     "iopub.status.idle": "2025-03-08T08:16:54.743579Z",
     "shell.execute_reply": "2025-03-08T08:16:54.742969Z"
    },
    "papermill": {
     "duration": 0.00881,
     "end_time": "2025-03-08T08:16:54.744780",
     "exception": false,
     "start_time": "2025-03-08T08:16:54.735970",
     "status": "completed"
    },
    "tags": []
   },
   "outputs": [],
   "source": [
    "import numpy as np"
   ]
  },
  {
   "cell_type": "code",
   "execution_count": 4,
   "id": "56fd961b",
   "metadata": {
    "execution": {
     "iopub.execute_input": "2025-03-08T08:16:54.752617Z",
     "iopub.status.busy": "2025-03-08T08:16:54.752329Z",
     "iopub.status.idle": "2025-03-08T08:16:54.757334Z",
     "shell.execute_reply": "2025-03-08T08:16:54.756573Z"
    },
    "papermill": {
     "duration": 0.010263,
     "end_time": "2025-03-08T08:16:54.758582",
     "exception": false,
     "start_time": "2025-03-08T08:16:54.748319",
     "status": "completed"
    },
    "tags": []
   },
   "outputs": [
    {
     "data": {
      "text/plain": [
       "[PhysicalDevice(name='/physical_device:GPU:0', device_type='GPU'),\n",
       " PhysicalDevice(name='/physical_device:GPU:1', device_type='GPU')]"
      ]
     },
     "execution_count": 4,
     "metadata": {},
     "output_type": "execute_result"
    }
   ],
   "source": [
    "gpus"
   ]
  },
  {
   "cell_type": "code",
   "execution_count": 5,
   "id": "526a11ab",
   "metadata": {
    "execution": {
     "iopub.execute_input": "2025-03-08T08:16:54.766644Z",
     "iopub.status.busy": "2025-03-08T08:16:54.766370Z",
     "iopub.status.idle": "2025-03-08T08:16:57.737842Z",
     "shell.execute_reply": "2025-03-08T08:16:57.737114Z"
    },
    "papermill": {
     "duration": 2.977171,
     "end_time": "2025-03-08T08:16:57.739542",
     "exception": false,
     "start_time": "2025-03-08T08:16:54.762371",
     "status": "completed"
    },
    "tags": []
   },
   "outputs": [
    {
     "name": "stdout",
     "output_type": "stream",
     "text": [
      "Downloading data from https://storage.googleapis.com/tensorflow/tf-keras-datasets/train-labels-idx1-ubyte.gz\n",
      "\u001b[1m29515/29515\u001b[0m \u001b[32m━━━━━━━━━━━━━━━━━━━━\u001b[0m\u001b[37m\u001b[0m \u001b[1m0s\u001b[0m 0us/step\n",
      "Downloading data from https://storage.googleapis.com/tensorflow/tf-keras-datasets/train-images-idx3-ubyte.gz\n",
      "\u001b[1m26421880/26421880\u001b[0m \u001b[32m━━━━━━━━━━━━━━━━━━━━\u001b[0m\u001b[37m\u001b[0m \u001b[1m1s\u001b[0m 0us/step\n",
      "Downloading data from https://storage.googleapis.com/tensorflow/tf-keras-datasets/t10k-labels-idx1-ubyte.gz\n",
      "\u001b[1m5148/5148\u001b[0m \u001b[32m━━━━━━━━━━━━━━━━━━━━\u001b[0m\u001b[37m\u001b[0m \u001b[1m0s\u001b[0m 0us/step\n",
      "Downloading data from https://storage.googleapis.com/tensorflow/tf-keras-datasets/t10k-images-idx3-ubyte.gz\n",
      "\u001b[1m4422102/4422102\u001b[0m \u001b[32m━━━━━━━━━━━━━━━━━━━━\u001b[0m\u001b[37m\u001b[0m \u001b[1m1s\u001b[0m 0us/step\n"
     ]
    }
   ],
   "source": [
    "import tensorflow as tf\n",
    "\n",
    "# Loading Fashion-MNIST dataset\n",
    "(x_train, y_train), (x_test, y_test) = tf.keras.datasets.fashion_mnist.load_data()\n"
   ]
  },
  {
   "cell_type": "code",
   "execution_count": 6,
   "id": "40fecf8c",
   "metadata": {
    "execution": {
     "iopub.execute_input": "2025-03-08T08:16:57.752672Z",
     "iopub.status.busy": "2025-03-08T08:16:57.752368Z",
     "iopub.status.idle": "2025-03-08T08:16:57.757127Z",
     "shell.execute_reply": "2025-03-08T08:16:57.756212Z"
    },
    "papermill": {
     "duration": 0.012498,
     "end_time": "2025-03-08T08:16:57.758440",
     "exception": false,
     "start_time": "2025-03-08T08:16:57.745942",
     "status": "completed"
    },
    "tags": []
   },
   "outputs": [
    {
     "data": {
      "text/plain": [
       "(60000, 28, 28)"
      ]
     },
     "execution_count": 6,
     "metadata": {},
     "output_type": "execute_result"
    }
   ],
   "source": [
    "x_train.shape"
   ]
  },
  {
   "cell_type": "code",
   "execution_count": 7,
   "id": "0a16b6da",
   "metadata": {
    "execution": {
     "iopub.execute_input": "2025-03-08T08:16:57.771398Z",
     "iopub.status.busy": "2025-03-08T08:16:57.771168Z",
     "iopub.status.idle": "2025-03-08T08:16:57.895855Z",
     "shell.execute_reply": "2025-03-08T08:16:57.895056Z"
    },
    "papermill": {
     "duration": 0.132773,
     "end_time": "2025-03-08T08:16:57.897600",
     "exception": false,
     "start_time": "2025-03-08T08:16:57.764827",
     "status": "completed"
    },
    "tags": []
   },
   "outputs": [],
   "source": [
    "x_train = x_train.astype(np.float32) / 255.0\n",
    "x_test = x_test.astype(np.float32) / 255.0"
   ]
  },
  {
   "cell_type": "code",
   "execution_count": 8,
   "id": "ce7211cb",
   "metadata": {
    "execution": {
     "iopub.execute_input": "2025-03-08T08:16:57.910839Z",
     "iopub.status.busy": "2025-03-08T08:16:57.910604Z",
     "iopub.status.idle": "2025-03-08T08:16:58.082419Z",
     "shell.execute_reply": "2025-03-08T08:16:58.081683Z"
    },
    "papermill": {
     "duration": 0.179795,
     "end_time": "2025-03-08T08:16:58.083791",
     "exception": false,
     "start_time": "2025-03-08T08:16:57.903996",
     "status": "completed"
    },
    "tags": []
   },
   "outputs": [
    {
     "data": {
      "image/png": "[encoded data removed]",
      "text/plain": [
       "<Figure size 640x480 with 1 Axes>"
      ]
     },
     "metadata": {},
     "output_type": "display_data"
    }
   ],
   "source": [
    "import matplotlib.pyplot as plt\n",
    "\n",
    "# Select a sample image\n",
    "image_index = 10\n",
    "# You can choose any index between 0 and 59999\n",
    "plt.imshow(x_train[image_index],  cmap='gray')\n",
    "\n",
    "plt.title(f'Label: {y_train[image_index]} {x_train[image_index].shape}')\n",
    "plt.axis('off')\n",
    "plt.show()"
   ]
  },
  {
   "cell_type": "code",
   "execution_count": 9,
   "id": "6d1d9149",
   "metadata": {
    "execution": {
     "iopub.execute_input": "2025-03-08T08:16:58.097373Z",
     "iopub.status.busy": "2025-03-08T08:16:58.097153Z",
     "iopub.status.idle": "2025-03-08T08:16:58.100361Z",
     "shell.execute_reply": "2025-03-08T08:16:58.099749Z"
    },
    "papermill": {
     "duration": 0.011373,
     "end_time": "2025-03-08T08:16:58.101583",
     "exception": false,
     "start_time": "2025-03-08T08:16:58.090210",
     "status": "completed"
    },
    "tags": []
   },
   "outputs": [],
   "source": [
    "x_train = np.expand_dims(x_train, axis=-1)\n",
    "x_test = np.expand_dims(x_test, axis=-1)"
   ]
  },
  {
   "cell_type": "code",
   "execution_count": 10,
   "id": "ececcf03",
   "metadata": {
    "execution": {
     "iopub.execute_input": "2025-03-08T08:16:58.114242Z",
     "iopub.status.busy": "2025-03-08T08:16:58.114039Z",
     "iopub.status.idle": "2025-03-08T08:16:58.117296Z",
     "shell.execute_reply": "2025-03-08T08:16:58.116649Z"
    },
    "papermill": {
     "duration": 0.010837,
     "end_time": "2025-03-08T08:16:58.118590",
     "exception": false,
     "start_time": "2025-03-08T08:16:58.107753",
     "status": "completed"
    },
    "tags": []
   },
   "outputs": [],
   "source": [
    "layers = tf.keras.layers"
   ]
  },
  {
   "cell_type": "code",
   "execution_count": 11,
   "id": "c213c538",
   "metadata": {
    "execution": {
     "iopub.execute_input": "2025-03-08T08:16:58.130785Z",
     "iopub.status.busy": "2025-03-08T08:16:58.130579Z",
     "iopub.status.idle": "2025-03-08T08:16:58.134954Z",
     "shell.execute_reply": "2025-03-08T08:16:58.134041Z"
    },
    "papermill": {
     "duration": 0.012251,
     "end_time": "2025-03-08T08:16:58.136421",
     "exception": false,
     "start_time": "2025-03-08T08:16:58.124170",
     "status": "completed"
    },
    "tags": []
   },
   "outputs": [
    {
     "data": {
      "text/plain": [
       "(60000, 28, 28, 1)"
      ]
     },
     "execution_count": 11,
     "metadata": {},
     "output_type": "execute_result"
    }
   ],
   "source": [
    "x_train.shape"
   ]
  },
  {
   "cell_type": "code",
   "execution_count": 12,
   "id": "12534be0",
   "metadata": {
    "execution": {
     "iopub.execute_input": "2025-03-08T08:16:58.149302Z",
     "iopub.status.busy": "2025-03-08T08:16:58.149064Z",
     "iopub.status.idle": "2025-03-08T08:16:59.806948Z",
     "shell.execute_reply": "2025-03-08T08:16:59.806173Z"
    },
    "papermill": {
     "duration": 1.666063,
     "end_time": "2025-03-08T08:16:59.808421",
     "exception": false,
     "start_time": "2025-03-08T08:16:58.142358",
     "status": "completed"
    },
    "tags": []
   },
   "outputs": [],
   "source": [
    "model = tf.keras.Sequential([\n",
    "   \n",
    " tf.keras.layers.Input(shape=(28,28,1)),\n",
    "    tf.keras.layers.Conv2D(32, (3,3), activation='relu', padding='same'),\n",
    "    tf.keras.layers.MaxPooling2D((2,2)),  # 14x14\n",
    "\n",
    "    tf.keras.layers.Conv2D(64, (3,3), activation='relu', padding='same'),\n",
    "    tf.keras.layers.MaxPooling2D((2,2)),  # 7x7\n",
    "\n",
    "    tf.keras.layers.Conv2D(128, (3,3), activation='relu', padding='same'),\n",
    "    tf.keras.layers.MaxPooling2D((2,2)),  # 3x3 (small enough)\n",
    "\n",
    "    tf.keras.layers.Flatten(),\n",
    "    tf.keras.layers.Dense(128, activation='relu'),\n",
    "    tf.keras.layers.Dense(10, activation='softmax')\n",
    "    \n",
    "])"
   ]
  },
  {
   "cell_type": "code",
   "execution_count": 13,
   "id": "bb011cac",
   "metadata": {
    "execution": {
     "iopub.execute_input": "2025-03-08T08:16:59.822771Z",
     "iopub.status.busy": "2025-03-08T08:16:59.822419Z",
     "iopub.status.idle": "2025-03-08T08:16:59.833224Z",
     "shell.execute_reply": "2025-03-08T08:16:59.832306Z"
    },
    "papermill": {
     "duration": 0.019378,
     "end_time": "2025-03-08T08:16:59.834611",
     "exception": false,
     "start_time": "2025-03-08T08:16:59.815233",
     "status": "completed"
    },
    "tags": []
   },
   "outputs": [],
   "source": [
    "model.compile(optimizer = 'adam',\n",
    "             loss=\"sparse_categorical_crossentropy\",\n",
    "             metrics=[\"accuracy\"])"
   ]
  },
  {
   "cell_type": "code",
   "execution_count": 14,
   "id": "0fc9690c",
   "metadata": {
    "execution": {
     "iopub.execute_input": "2025-03-08T08:16:59.848035Z",
     "iopub.status.busy": "2025-03-08T08:16:59.847810Z",
     "iopub.status.idle": "2025-03-08T08:17:31.947618Z",
     "shell.execute_reply": "2025-03-08T08:17:31.946911Z"
    },
    "papermill": {
     "duration": 32.108293,
     "end_time": "2025-03-08T08:17:31.949067",
     "exception": false,
     "start_time": "2025-03-08T08:16:59.840774",
     "status": "completed"
    },
    "tags": []
   },
   "outputs": [
    {
     "name": "stdout",
     "output_type": "stream",
     "text": [
      "Epoch 1/10\n",
      "\u001b[1m938/938\u001b[0m \u001b[32m━━━━━━━━━━━━━━━━━━━━\u001b[0m\u001b[37m\u001b[0m \u001b[1m8s\u001b[0m 4ms/step - accuracy: 0.7538 - loss: 0.6722\n",
      "Epoch 2/10\n",
      "\u001b[1m938/938\u001b[0m \u001b[32m━━━━━━━━━━━━━━━━━━━━\u001b[0m\u001b[37m\u001b[0m \u001b[1m3s\u001b[0m 3ms/step - accuracy: 0.8906 - loss: 0.2960\n",
      "Epoch 3/10\n",
      "\u001b[1m938/938\u001b[0m \u001b[32m━━━━━━━━━━━━━━━━━━━━\u001b[0m\u001b[37m\u001b[0m \u001b[1m3s\u001b[0m 3ms/step - accuracy: 0.9119 - loss: 0.2449\n",
      "Epoch 4/10\n",
      "\u001b[1m938/938\u001b[0m \u001b[32m━━━━━━━━━━━━━━━━━━━━\u001b[0m\u001b[37m\u001b[0m \u001b[1m3s\u001b[0m 3ms/step - accuracy: 0.9236 - loss: 0.2092\n",
      "Epoch 5/10\n",
      "\u001b[1m938/938\u001b[0m \u001b[32m━━━━━━━━━━━━━━━━━━━━\u001b[0m\u001b[37m\u001b[0m \u001b[1m3s\u001b[0m 3ms/step - accuracy: 0.9296 - loss: 0.1883\n",
      "Epoch 6/10\n",
      "\u001b[1m938/938\u001b[0m \u001b[32m━━━━━━━━━━━━━━━━━━━━\u001b[0m\u001b[37m\u001b[0m \u001b[1m3s\u001b[0m 3ms/step - accuracy: 0.9389 - loss: 0.1638\n",
      "Epoch 7/10\n",
      "\u001b[1m938/938\u001b[0m \u001b[32m━━━━━━━━━━━━━━━━━━━━\u001b[0m\u001b[37m\u001b[0m \u001b[1m3s\u001b[0m 3ms/step - accuracy: 0.9458 - loss: 0.1442\n",
      "Epoch 8/10\n",
      "\u001b[1m938/938\u001b[0m \u001b[32m━━━━━━━━━━━━━━━━━━━━\u001b[0m\u001b[37m\u001b[0m \u001b[1m3s\u001b[0m 3ms/step - accuracy: 0.9545 - loss: 0.1235\n",
      "Epoch 9/10\n",
      "\u001b[1m938/938\u001b[0m \u001b[32m━━━━━━━━━━━━━━━━━━━━\u001b[0m\u001b[37m\u001b[0m \u001b[1m3s\u001b[0m 3ms/step - accuracy: 0.9585 - loss: 0.1114\n",
      "Epoch 10/10\n",
      "\u001b[1m938/938\u001b[0m \u001b[32m━━━━━━━━━━━━━━━━━━━━\u001b[0m\u001b[37m\u001b[0m \u001b[1m3s\u001b[0m 3ms/step - accuracy: 0.9640 - loss: 0.0949\n"
     ]
    }
   ],
   "source": [
    "history = model.fit(\n",
    "    x_train, y_train,\n",
    "    epochs=10,\n",
    "    batch_size=64,\n",
    ")"
   ]
  },
  {
   "cell_type": "code",
   "execution_count": 15,
   "id": "1dfeebf2",
   "metadata": {
    "execution": {
     "iopub.execute_input": "2025-03-08T08:17:32.011225Z",
     "iopub.status.busy": "2025-03-08T08:17:32.010975Z",
     "iopub.status.idle": "2025-03-08T08:17:33.836537Z",
     "shell.execute_reply": "2025-03-08T08:17:33.835574Z"
    },
    "papermill": {
     "duration": 1.857441,
     "end_time": "2025-03-08T08:17:33.837931",
     "exception": false,
     "start_time": "2025-03-08T08:17:31.980490",
     "status": "completed"
    },
    "tags": []
   },
   "outputs": [
    {
     "name": "stdout",
     "output_type": "stream",
     "text": [
      "\u001b[1m313/313\u001b[0m \u001b[32m━━━━━━━━━━━━━━━━━━━━\u001b[0m\u001b[37m\u001b[0m \u001b[1m2s\u001b[0m 3ms/step - accuracy: 0.9168 - loss: 0.2585\n",
      "Test accuracy: 0.9185\n"
     ]
    }
   ],
   "source": [
    "test_loss, test_acc = model.evaluate(x_test, y_test)\n",
    "print(f\"Test accuracy: {test_acc:.4f}\")\n"
   ]
  },
  {
   "cell_type": "code",
   "execution_count": 16,
   "id": "37c8473a",
   "metadata": {
    "execution": {
     "iopub.execute_input": "2025-03-08T08:17:33.901187Z",
     "iopub.status.busy": "2025-03-08T08:17:33.900932Z",
     "iopub.status.idle": "2025-03-08T08:17:33.947749Z",
     "shell.execute_reply": "2025-03-08T08:17:33.947011Z"
    },
    "papermill": {
     "duration": 0.079717,
     "end_time": "2025-03-08T08:17:33.949132",
     "exception": false,
     "start_time": "2025-03-08T08:17:33.869415",
     "status": "completed"
    },
    "tags": []
   },
   "outputs": [],
   "source": [
    "model.save(\"fashion_mnist_model.h5\")"
   ]
  },
  {
   "cell_type": "code",
   "execution_count": 17,
   "id": "141e897a",
   "metadata": {
    "execution": {
     "iopub.execute_input": "2025-03-08T08:17:34.012082Z",
     "iopub.status.busy": "2025-03-08T08:17:34.011865Z",
     "iopub.status.idle": "2025-03-08T08:17:34.146212Z",
     "shell.execute_reply": "2025-03-08T08:17:34.145560Z"
    },
    "papermill": {
     "duration": 0.166745,
     "end_time": "2025-03-08T08:17:34.147443",
     "exception": false,
     "start_time": "2025-03-08T08:17:33.980698",
     "status": "completed"
    },
    "tags": []
   },
   "outputs": [
    {
     "data": {
      "application/vnd.jupyter.widget-view+json": {
       "model_id": "9979c350447249fcb4f9660aeee22e4e",
       "version_major": 2,
       "version_minor": 0
      },
      "text/plain": [
       "FileUpload(value=(), accept='image/*', description='Upload')"
      ]
     },
     "metadata": {},
     "output_type": "display_data"
    }
   ],
   "source": [
    "# Import necessary libraries\n",
    "import tensorflow as tf\n",
    "import numpy as np\n",
    "import matplotlib.pyplot as plt\n",
    "from PIL import Image\n",
    "import io\n",
    "from ipywidgets import FileUpload\n",
    "from IPython.display import display\n",
    "\n",
    "upload = FileUpload(accept='image/*', multiple=False)\n",
    "display(upload)\n"
   ]
  },
  {
   "cell_type": "code",
   "execution_count": 18,
   "id": "0349c05c",
   "metadata": {
    "execution": {
     "iopub.execute_input": "2025-03-08T08:17:34.209699Z",
     "iopub.status.busy": "2025-03-08T08:17:34.209398Z",
     "iopub.status.idle": "2025-03-08T08:17:34.212712Z",
     "shell.execute_reply": "2025-03-08T08:17:34.211820Z"
    },
    "papermill": {
     "duration": 0.035507,
     "end_time": "2025-03-08T08:17:34.214110",
     "exception": false,
     "start_time": "2025-03-08T08:17:34.178603",
     "status": "completed"
    },
    "tags": []
   },
   "outputs": [],
   "source": [
    "# # Extract uploaded image\n",
    "# img_content = list(upload.value)[0]['content']\n",
    "\n"
   ]
  },
  {
   "cell_type": "code",
   "execution_count": 19,
   "id": "bc24176e",
   "metadata": {
    "execution": {
     "iopub.execute_input": "2025-03-08T08:17:34.276507Z",
     "iopub.status.busy": "2025-03-08T08:17:34.276160Z",
     "iopub.status.idle": "2025-03-08T08:17:34.280135Z",
     "shell.execute_reply": "2025-03-08T08:17:34.279277Z"
    },
    "papermill": {
     "duration": 0.037134,
     "end_time": "2025-03-08T08:17:34.281468",
     "exception": false,
     "start_time": "2025-03-08T08:17:34.244334",
     "status": "completed"
    },
    "tags": []
   },
   "outputs": [],
   "source": [
    "# # Load image, convert to grayscale, resize to 28x28\n",
    "# img = Image.open(io.BytesIO(img_content)).convert('L').resize((28,28))\n",
    "\n",
    "# # Convert image to array and normalize\n",
    "# img_array = np.array(img)\n",
    "# # Add batch and channel dimensions\n",
    "# img_array = img_array.reshape(1, 28, 28, 1)\n",
    "\n",
    "# # Visualize image\n",
    "# plt.imshow(img_array[0,:,:,0], cmap='gray')\n",
    "# plt.axis('off')\n",
    "# plt.show()\n",
    "\n",
    "# # Load trained model\n",
    "# model = tf.keras.models.load_model('fashion_mnist_model.h5')\n",
    "\n",
    "# # Make prediction\n",
    "# predictions = model.predict(img_array)\n",
    "# predicted_label = np.argmax(predictions)\n",
    "\n",
    "# # Class labels\n",
    "# class_names = [\"T-shirt/top\", \"Trouser\", \"Pullover\", \"Dress\", \"Coat\",\n",
    "#                \"Sandal\", \"Shirt\", \"Sneaker\", \"Bag\", \"Ankle boot\"]\n",
    "\n",
    "# print(f\"Predicted label: {class_names[predicted_label]} {predictions}\")\n"
   ]
  },
  {
   "cell_type": "code",
   "execution_count": null,
   "id": "339690b4",
   "metadata": {
    "papermill": {
     "duration": 0.031519,
     "end_time": "2025-03-08T08:17:34.343732",
     "exception": false,
     "start_time": "2025-03-08T08:17:34.312213",
     "status": "completed"
    },
    "tags": []
   },
   "outputs": [],
   "source": []
  }
 ],
 "metadata": {
  "kaggle": {
   "accelerator": "nvidiaTeslaT4",
   "dataSources": [],
   "dockerImageVersionId": 30919,
   "isGpuEnabled": true,
   "isInternetEnabled": true,
   "language": "python",
   "sourceType": "notebook"
  },
  "kernelspec": {
   "display_name": "Python 3",
   "language": "python",
   "name": "python3"
  },
  "language_info": {
   "codemirror_mode": {
    "name": "ipython",
    "version": 3
   },
   "file_extension": ".py",
   "mimetype": "text/x-python",
   "name": "python",
   "nbconvert_exporter": "python",
   "pygments_lexer": "ipython3",
   "version": "3.10.12"
  },
  "papermill": {
   "default_parameters": {},
   "duration": 57.775093,
   "end_time": "2025-03-08T08:17:37.023781",
   "environment_variables": {},
   "exception": null,
   "input_path": "__notebook__.ipynb",
   "output_path": "__notebook__.ipynb",
   "parameters": {},
   "start_time": "2025-03-08T08:16:39.248688",
   "version": "2.6.0"
  },
  "widgets": {
   "application/vnd.jupyter.widget-state+json": {
    "state": {
     "4833fa9d58684471918d66bfdd0b8689": {
      "model_module": "@jupyter-widgets/base",
      "model_module_version": "2.0.0",
      "model_name": "LayoutModel",
      "state": {
       "_model_module": "@jupyter-widgets/base",
       "_model_module_version": "2.0.0",
       "_model_name": "LayoutModel",
       "_view_count": null,
       "_view_module": "@jupyter-widgets/base",
       "_view_module_version": "2.0.0",
       "_view_name": "LayoutView",
       "align_content": null,
       "align_items": null,
       "align_self": null,
       "border_bottom": null,
       "border_left": null,
       "border_right": null,
       "border_top": null,
       "bottom": null,
       "display": null,
       "flex": null,
       "flex_flow": null,
       "grid_area": null,
       "grid_auto_columns": null,
       "grid_auto_flow": null,
       "grid_auto_rows": null,
       "grid_column": null,
       "grid_gap": null,
       "grid_row": null,
       "grid_template_areas": null,
       "grid_template_columns": null,
       "grid_template_rows": null,
       "height": null,
       "justify_content": null,
       "justify_items": null,
       "left": null,
       "margin": null,
       "max_height": null,
       "max_width": null,
       "min_height": null,
       "min_width": null,
       "object_fit": null,
       "object_position": null,
       "order": null,
       "overflow": null,
       "padding": null,
       "right": null,
       "top": null,
       "visibility": null,
       "width": null
      }
     },
     "935c93f3d12f49038db5865140fd9fac": {
      "model_module": "@jupyter-widgets/controls",
      "model_module_version": "2.0.0",
      "model_name": "ButtonStyleModel",
      "state": {
       "_model_module": "@jupyter-widgets/controls",
       "_model_module_version": "2.0.0",
       "_model_name": "ButtonStyleModel",
       "_view_count": null,
       "_view_module": "@jupyter-widgets/base",
       "_view_module_version": "2.0.0",
       "_view_name": "StyleView",
       "button_color": null,
       "font_family": null,
       "font_size": null,
       "font_style": null,
       "font_variant": null,
       "font_weight": null,
       "text_color": null,
       "text_decoration": null
      }
     },
     "9979c350447249fcb4f9660aeee22e4e": {
      "model_module": "@jupyter-widgets/controls",
      "model_module_version": "2.0.0",
      "model_name": "FileUploadModel",
      "state": {
       "_dom_classes": [],
       "_model_module": "@jupyter-widgets/controls",
       "_model_module_version": "2.0.0",
       "_model_name": "FileUploadModel",
       "_view_count": null,
       "_view_module": "@jupyter-widgets/controls",
       "_view_module_version": "2.0.0",
       "_view_name": "FileUploadView",
       "accept": "image/*",
       "button_style": "",
       "description": "Upload",
       "description_allow_html": false,
       "disabled": false,
       "error": "",
       "icon": "upload",
       "layout": "IPY_MODEL_4833fa9d58684471918d66bfdd0b8689",
       "multiple": false,
       "style": "IPY_MODEL_935c93f3d12f49038db5865140fd9fac",
       "tabbable": null,
       "tooltip": null,
       "value": []
      }
     }
    },
    "version_major": 2,
    "version_minor": 0
   }
  }
 },
 "nbformat": 4,
 "nbformat_minor": 5
}
